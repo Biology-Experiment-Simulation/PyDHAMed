{
 "cells": [
  {
   "cell_type": "markdown",
   "metadata": {
    "run_control": {
     "frozen": false,
     "read_only": false
    },
    "toc": "true"
   },
   "source": [
    "# Table of Contents\n",
    " <p><div class=\"lev1 toc-item\"><a href=\"#Free-energy-profile-for-RNA-duplex-formation\" data-toc-modified-id=\"Free-energy-profile-for-RNA-duplex-formation-1\"><span class=\"toc-item-num\">1&nbsp;&nbsp;</span>Free energy profile for RNA duplex formation</a></div><div class=\"lev1 toc-item\"><a href=\"#Prepare-calculation\" data-toc-modified-id=\"Prepare-calculation-2\"><span class=\"toc-item-num\">2&nbsp;&nbsp;</span>Prepare calculation</a></div><div class=\"lev2 toc-item\"><a href=\"#Transition-counts\" data-toc-modified-id=\"Transition-counts-21\"><span class=\"toc-item-num\">2.1&nbsp;&nbsp;</span>Transition counts</a></div><div class=\"lev2 toc-item\"><a href=\"#Load-bias-potentials\" data-toc-modified-id=\"Load-bias-potentials-22\"><span class=\"toc-item-num\">2.2&nbsp;&nbsp;</span>Load bias potentials</a></div><div class=\"lev1 toc-item\"><a href=\"#Solve-DHAMed-equations\" data-toc-modified-id=\"Solve-DHAMed-equations-3\"><span class=\"toc-item-num\">3&nbsp;&nbsp;</span>Solve DHAMed equations</a></div><div class=\"lev2 toc-item\"><a href=\"#Use-all-data-points\" data-toc-modified-id=\"Use-all-data-points-31\"><span class=\"toc-item-num\">3.1&nbsp;&nbsp;</span>Use all data points</a></div><div class=\"lev2 toc-item\"><a href=\"#Block-average\" data-toc-modified-id=\"Block-average-32\"><span class=\"toc-item-num\">3.2&nbsp;&nbsp;</span>Block average</a></div><div class=\"lev2 toc-item\"><a href=\"#Vary-observation-interval\" data-toc-modified-id=\"Vary-observation-interval-33\"><span class=\"toc-item-num\">3.3&nbsp;&nbsp;</span>Vary observation interval</a></div><div class=\"lev1 toc-item\"><a href=\"#References\" data-toc-modified-id=\"References-4\"><span class=\"toc-item-num\">4&nbsp;&nbsp;</span>References</a></div>"
   ]
  },
  {
   "cell_type": "code",
   "execution_count": 14,
   "metadata": {
    "collapsed": false,
    "run_control": {
     "frozen": false,
     "read_only": false
    }
   },
   "outputs": [],
   "source": [
    "import numpy as np\n",
    "import matplotlib.pyplot as plt\n",
    "%matplotlib inline\n",
    "from pydhamed import count_matrix\n",
    "from pydhamed import run_dhamed"
   ]
  },
  {
   "cell_type": "markdown",
   "metadata": {
    "collapsed": true,
    "run_control": {
     "frozen": false,
     "read_only": false
    }
   },
   "source": [
    "# Free energy profile for RNA duplex formation\n",
    "\n",
    "We have run coarse-grained simulations of RNA duplex formation with the oxRNA model (https://dna.physics.ox.ac.uk/index.php/RNA_model_introduction). \n",
    "\n",
    "# Prepare calculation\n",
    "\n",
    "## Transition counts\n",
    "\n",
    "Load trajectory data. Each time point needs to be assigned to a structural/conformational state. I use the number of native base-pairs to assign structural states for the coarse grained RNA. Second but lust column contains the state assignment. The state assigned trajectory is used to determine the transition counts, which serve as input for DHAMed."
   ]
  },
  {
   "cell_type": "code",
   "execution_count": 15,
   "metadata": {
    "collapsed": false,
    "run_control": {
     "frozen": false,
     "read_only": false
    }
   },
   "outputs": [],
   "source": [
    "traj = np.load(\"us_step-e4.npy\")[:,-2]"
   ]
  },
  {
   "cell_type": "code",
   "execution_count": 16,
   "metadata": {
    "collapsed": false,
    "run_control": {
     "frozen": false,
     "read_only": false
    }
   },
   "outputs": [
    {
     "data": {
      "text/plain": [
       "array([ 8.,  7.,  8., ...,  0.,  0.,  0.])"
      ]
     },
     "execution_count": 16,
     "metadata": {},
     "output_type": "execute_result"
    }
   ],
   "source": [
    "traj"
   ]
  },
  {
   "cell_type": "code",
   "execution_count": 17,
   "metadata": {
    "collapsed": false,
    "run_control": {
     "frozen": false,
     "read_only": false
    }
   },
   "outputs": [],
   "source": [
    "c_l = [count_matrix(traj,n_states=9)]"
   ]
  },
  {
   "cell_type": "code",
   "execution_count": 18,
   "metadata": {
    "collapsed": false,
    "run_control": {
     "frozen": false,
     "read_only": false
    }
   },
   "outputs": [
    {
     "data": {
      "text/plain": [
       "200001"
      ]
     },
     "execution_count": 18,
     "metadata": {},
     "output_type": "execute_result"
    }
   ],
   "source": [
    "traj.__len__()"
   ]
  },
  {
   "cell_type": "markdown",
   "metadata": {
    "run_control": {
     "frozen": false,
     "read_only": false
    }
   },
   "source": [
    "## Load bias potentials\n",
    "\n",
    "Bias potentials were used to sample unfavorable structures. For each structural state and for each window (or simulation run) we need to specify the bias that was acting on the simulations system. "
   ]
  },
  {
   "cell_type": "code",
   "execution_count": 19,
   "metadata": {
    "collapsed": true,
    "run_control": {
     "frozen": false,
     "read_only": false
    }
   },
   "outputs": [],
   "source": [
    "v_ar = np.genfromtxt(\"wfile.txt\")[:,1].reshape((9,1))"
   ]
  },
  {
   "cell_type": "code",
   "execution_count": 20,
   "metadata": {
    "collapsed": false,
    "run_control": {
     "frozen": false,
     "read_only": false
    }
   },
   "outputs": [
    {
     "data": {
      "text/plain": [
       "(9, 1)"
      ]
     },
     "execution_count": 20,
     "metadata": {},
     "output_type": "execute_result"
    }
   ],
   "source": [
    "v_ar.shape"
   ]
  },
  {
   "cell_type": "markdown",
   "metadata": {
    "run_control": {
     "frozen": false,
     "read_only": false
    }
   },
   "source": [
    "\n",
    "\n",
    "For the simulation of RNA duplex formation we have nine structural states and the simulation was run all at once (in a single simulation run or window). The bias array thus has the shape 9x1."
   ]
  },
  {
   "cell_type": "markdown",
   "metadata": {
    "run_control": {
     "frozen": false,
     "read_only": false
    }
   },
   "source": [
    "# Solve DHAMed equations\n",
    "\n",
    "Solve DHAMed equations for Umbrella Sampling simulations of coarse grained RNA duplex formation. I take the negative log of the bias array to convert the bias into units of $k_BT$.\n",
    "\n",
    "## Use all data points"
   ]
  },
  {
   "cell_type": "code",
   "execution_count": 21,
   "metadata": {
    "collapsed": false,
    "run_control": {
     "frozen": false,
     "read_only": false
    }
   },
   "outputs": [
    {
     "name": "stdout",
     "output_type": "stream",
     "text": [
      "36\n",
      "loglike-start 307329.010043\n",
      "307329.010043\n",
      "Warning: Desired error not necessarily achieved due to precision loss.\n",
      "         Current function value: 288165.228180\n",
      "         Iterations: 21\n",
      "         Function evaluations: 52\n",
      "         Gradient evaluations: 40\n",
      "time elapsed 0.034942150116 s\n"
     ]
    }
   ],
   "source": [
    "og = run_dhamed(c_l, -np.log(v_ar))"
   ]
  },
  {
   "cell_type": "markdown",
   "metadata": {
    "run_control": {
     "frozen": false,
     "read_only": false
    }
   },
   "source": [
    "## Block average\n",
    "\n",
    "Estimate uncertainty in the DHAMed free energy profile by splitting the data into five blocks."
   ]
  },
  {
   "cell_type": "code",
   "execution_count": 22,
   "metadata": {
    "collapsed": false,
    "run_control": {
     "frozen": false,
     "read_only": false
    }
   },
   "outputs": [
    {
     "name": "stdout",
     "output_type": "stream",
     "text": [
      "32\n",
      "loglike-start 59535.0856402\n",
      "59535.0856402\n",
      "Optimization terminated successfully.\n",
      "         Current function value: 55154.290427\n",
      "         Iterations: 21\n",
      "         Function evaluations: 24\n",
      "         Gradient evaluations: 24\n",
      "time elapsed 0.0137038230896 s\n",
      "32\n",
      "loglike-start 54945.0688078\n",
      "54945.0688078\n",
      "Optimization terminated successfully.\n",
      "         Current function value: 50890.763573\n",
      "         Iterations: 21\n",
      "         Function evaluations: 24\n",
      "         Gradient evaluations: 24\n",
      "time elapsed 0.0107760429382 s\n",
      "33\n",
      "loglike-start 30329.4839929\n",
      "30329.4839929\n",
      "Optimization terminated successfully.\n",
      "         Current function value: 27634.820755\n",
      "         Iterations: 21\n",
      "         Function evaluations: 25\n",
      "         Gradient evaluations: 25\n",
      "time elapsed 0.0108389854431 s\n",
      "34\n",
      "loglike-start 52453.6162341\n",
      "52453.6162341\n",
      "Optimization terminated successfully.\n",
      "         Current function value: 48500.807605\n",
      "         Iterations: 21\n",
      "         Function evaluations: 25\n",
      "         Gradient evaluations: 25\n",
      "time elapsed 0.010734796524 s\n",
      "33\n",
      "loglike-start 53979.5557127\n",
      "53979.5557127\n",
      "Warning: Desired error not necessarily achieved due to precision loss.\n",
      "         Current function value: 49892.483234\n",
      "         Iterations: 20\n",
      "         Function evaluations: 79\n",
      "         Gradient evaluations: 67\n",
      "time elapsed 0.0374071598053 s\n"
     ]
    }
   ],
   "source": [
    "n_blocks = 5\n",
    "bl_l = []\n",
    "for bl in np.split(traj[1:],n_blocks):\n",
    "    c_l = [count_matrix(bl,n_states=9)]\n",
    "    bl_g = run_dhamed(c_l, -np.log(v_ar))\n",
    "    bl_l.append(np.exp(-bl_g) / np.sum(np.exp(-bl_g)))"
   ]
  },
  {
   "cell_type": "code",
   "execution_count": 23,
   "metadata": {
    "collapsed": false,
    "run_control": {
     "frozen": false,
     "read_only": false
    }
   },
   "outputs": [],
   "source": [
    "bl_ar = np.column_stack((bl_l))\n",
    "bl_ln_ar = np.log(bl_ar)\n",
    "\n",
    "# minmum and maximum values of the PMF (from the five reconstructions) to indicate the uncertainty.\n",
    "min_pmf = np.min( bl_ln_ar - bl_ln_ar[-1], axis=1)\n",
    "max_pmf = np.max( bl_ln_ar - bl_ln_ar[-1], axis=1)"
   ]
  },
  {
   "cell_type": "code",
   "execution_count": 24,
   "metadata": {
    "collapsed": false,
    "run_control": {
     "frozen": false,
     "read_only": false
    }
   },
   "outputs": [
    {
     "data": {
      "text/plain": [
       "(9, 5)"
      ]
     },
     "execution_count": 24,
     "metadata": {},
     "output_type": "execute_result"
    }
   ],
   "source": [
    "bl_ar.shape"
   ]
  },
  {
   "cell_type": "code",
   "execution_count": 25,
   "metadata": {
    "collapsed": false,
    "run_control": {
     "frozen": false,
     "read_only": false
    }
   },
   "outputs": [
    {
     "data": {
      "text/plain": [
       "(9,)"
      ]
     },
     "execution_count": 25,
     "metadata": {},
     "output_type": "execute_result"
    }
   ],
   "source": [
    "dh_log_err = np.std(-np.log(bl_ar), axis=1) / np.sqrt(n_blocks-1)\n",
    "dh_log_err.shape"
   ]
  },
  {
   "cell_type": "code",
   "execution_count": 26,
   "metadata": {
    "collapsed": false,
    "run_control": {
     "frozen": false,
     "read_only": false
    }
   },
   "outputs": [
    {
     "data": {
      "image/png": "[encoded data removed]",
      "text/plain": [
       "<matplotlib.figure.Figure at 0x150c2d31d0>"
      ]
     },
     "metadata": {},
     "output_type": "display_data"
    }
   ],
   "source": [
    "fig, ax = plt.subplots(figsize=(5,3))\n",
    "\n",
    "# error bar is barely visible\n",
    "#plt.errorbar(rc, rna_pmf, yerr=dh_log_err, fmt=\".\", capthick=1,capsize=4\n",
    "rc = np.arange(0,9)\n",
    "rna_pmf = og*-1\n",
    "rna_pmf -= rna_pmf[-1]\n",
    "plt.plot(rc, rna_pmf, \".\", label=\"US DHAMed\")\n",
    "\n",
    "plt.fill_between(rc, min_pmf, max_pmf, alpha=0.4, label=r\"min-max PMF $\\Delta t=10^4 \\, \\mathrm{MC}$ \")\n",
    "\n",
    "ax.set_xlabel(\"Native base pairs\")\n",
    "ax.set_ylabel(\"PMF ($\\mathrm{k_BT}$)\")\n",
    "ax.set_ylim(-1,13)\n",
    "ax.set_xlim(-0.4,8.4)\n",
    "ax.set_yticks([0,5,10])\n",
    "ax.set_xticks([0,2,4,6,8])\n",
    "ax.tick_params(direction='out')\n",
    "\n",
    "plt.legend(borderaxespad=0.1)\n",
    "plt.tight_layout()\n",
    "plt.savefig(\"rna_pmf.pdf\")"
   ]
  },
  {
   "cell_type": "markdown",
   "metadata": {
    "collapsed": true,
    "run_control": {
     "frozen": false,
     "read_only": false
    }
   },
   "source": [
    "The figure reproduces the free energy profile presented in Figure 7B of the manuscript [1]."
   ]
  },
  {
   "cell_type": "markdown",
   "metadata": {
    "run_control": {
     "frozen": false,
     "read_only": false
    }
   },
   "source": [
    "## Vary observation interval\n",
    "\n",
    "Here I vary the observation interval. Using a sliding window to determine transition counts I can analyze trajectories even at long observation intervals."
   ]
  },
  {
   "cell_type": "code",
   "execution_count": 27,
   "metadata": {
    "collapsed": true,
    "run_control": {
     "frozen": false,
     "read_only": false
    }
   },
   "outputs": [],
   "source": [
    "c_l_lag_e7 = [count_matrix(traj,n_states=9, lag=5000)] # 10^4 * 5000  -> 5x10^7"
   ]
  },
  {
   "cell_type": "code",
   "execution_count": 28,
   "metadata": {
    "collapsed": false,
    "run_control": {
     "frozen": false,
     "read_only": false
    }
   },
   "outputs": [
    {
     "name": "stdout",
     "output_type": "stream",
     "text": [
      "36\n",
      "loglike-start 1134671.76583\n",
      "1134671.76583\n",
      "Warning: Desired error not necessarily achieved due to precision loss.\n",
      "         Current function value: 1072622.665740\n",
      "         Iterations: 20\n",
      "         Function evaluations: 63\n",
      "         Gradient evaluations: 51\n",
      "time elapsed 0.0457861423492 s\n"
     ]
    }
   ],
   "source": [
    "og_e7 = run_dhamed(c_l_lag_e7, -np.log(v_ar))"
   ]
  },
  {
   "cell_type": "code",
   "execution_count": 29,
   "metadata": {
    "collapsed": false,
    "run_control": {
     "frozen": false,
     "read_only": false
    }
   },
   "outputs": [
    {
     "data": {
      "image/png": "[encoded data removed]",
      "text/plain": [
       "<matplotlib.figure.Figure at 0x150d722210>"
      ]
     },
     "metadata": {},
     "output_type": "display_data"
    }
   ],
   "source": [
    "fig, ax = plt.subplots(figsize=(5,3))\n",
    "\n",
    "# error bar is barely visible\n",
    "#plt.errorbar(rc, rna_pmf, yerr=dh_log_err, fmt=\".\", capthick=1,capsize=4\n",
    "rc = np.arange(0,9)\n",
    "rna_pmf = og*-1\n",
    "rna_pmf -= rna_pmf[-1]\n",
    "plt.plot(rc, rna_pmf, \".\", label=\"US DHAMed\")\n",
    "rna_pmf_obs_e7 = og_e7*-1\n",
    "rna_pmf_obs_e7 -= rna_pmf_obs_e7[-1]\n",
    "plt.plot(rc, rna_pmf_obs_e7, \"s\", mew=1, mfc=\"None\",\n",
    "        label=\"PMF $\\Delta t=5x10^7 \\, \\mathrm{MC}$ \")\n",
    "\n",
    "plt.fill_between(rc, min_pmf, max_pmf, alpha=0.4, label=r\"min-max PMF $\\Delta t=10^4 \\, \\mathrm{MC}$ \")\n",
    "\n",
    "ax.set_xlabel(\"Native base pairs\")\n",
    "ax.set_ylabel(\"PMF ($\\mathrm{k_BT}$)\")\n",
    "ax.set_ylim(-1,13)\n",
    "ax.set_xlim(-0.4,8.4)\n",
    "ax.set_yticks([0,5,10])\n",
    "ax.set_xticks([0,2,4,6,8])\n",
    "ax.tick_params(direction='out')\n",
    "\n",
    "plt.legend(borderaxespad=0.1)\n",
    "plt.tight_layout()"
   ]
  },
  {
   "cell_type": "markdown",
   "metadata": {
    "run_control": {
     "frozen": false,
     "read_only": false
    }
   },
   "source": [
    "# References\n",
    "\n",
    "[1] Dynamic Histogram Analysis To Determine Free Energies and Rates from biased \n",
    "Simulations, L. S. Stelzl, A. Kells, E. Rosta, G. Hummer, J. Chem. Theory Comput.,\n",
    "2017, http://pubs.acs.org/doi/abs/10.1021/acs.jctc.7b00373"
   ]
  },
  {
   "cell_type": "code",
   "execution_count": null,
   "metadata": {
    "collapsed": true,
    "run_control": {
     "frozen": false,
     "read_only": false
    }
   },
   "outputs": [],
   "source": []
  },
  {
   "cell_type": "code",
   "execution_count": null,
   "metadata": {
    "collapsed": true,
    "run_control": {
     "frozen": false,
     "read_only": false
    }
   },
   "outputs": [],
   "source": []
  }
 ],
 "metadata": {
  "kernelspec": {
   "display_name": "Python [Root]",
   "language": "python",
   "name": "Python [Root]"
  },
  "language_info": {
   "codemirror_mode": {
    "name": "ipython",
    "version": 2
   },
   "file_extension": ".py",
   "mimetype": "text/x-python",
   "name": "python",
   "nbconvert_exporter": "python",
   "pygments_lexer": "ipython2",
   "version": "2.7.11"
  },
  "toc": {
   "colors": {
    "hover_highlight": "#DAA520",
    "running_highlight": "#FF0000",
    "selected_highlight": "#FFD700"
   },
   "moveMenuLeft": true,
   "nav_menu": {
    "height": "12px",
    "width": "252px"
   },
   "navigate_menu": true,
   "number_sections": true,
   "sideBar": true,
   "threshold": 4,
   "toc_cell": true,
   "toc_position": {
    "height": "830px",
    "left": "0px",
    "right": "1932px",
    "top": "107px",
    "width": "212px"
   },
   "toc_section_display": "block",
   "toc_window_display": true
  }
 },
 "nbformat": 4,
 "nbformat_minor": 0
}
