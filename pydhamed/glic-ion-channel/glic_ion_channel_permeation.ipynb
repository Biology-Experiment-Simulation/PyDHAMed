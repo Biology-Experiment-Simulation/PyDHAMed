{
 "cells": [
  {
   "cell_type": "code",
   "execution_count": 1,
   "metadata": {
    "collapsed": true
   },
   "outputs": [],
   "source": [
    "import numpy as np\n",
    "import os\n",
    "from pydhamed import run_dhamed\n",
    "import pandas as pd\n",
    "import matplotlib.pyplot as plt\n",
    "%matplotlib inline"
   ]
  },
  {
   "cell_type": "markdown",
   "metadata": {},
   "source": [
    "# Load transition counts\n",
    "\n",
    "Load transition counts for the GLIC ion channel. 600 states were defined for this system and 153 umbrella windows were run [1,2]. Calculating a potential of mean force for the permeation of $\\mathrm{Na^+}$ through the GLIC channel is not trivial."
   ]
  },
  {
   "cell_type": "code",
   "execution_count": 2,
   "metadata": {
    "collapsed": true
   },
   "outputs": [],
   "source": [
    "transition_count_l = pd.read_pickle(\"transition_count_list\", compression='bz2')"
   ]
  },
  {
   "cell_type": "code",
   "execution_count": 3,
   "metadata": {
    "collapsed": false
   },
   "outputs": [
    {
     "data": {
      "text/plain": [
       "153"
      ]
     },
     "execution_count": 3,
     "metadata": {},
     "output_type": "execute_result"
    }
   ],
   "source": [
    "len(transition_count_l) # one transition count matrix for each of the 153 umbrella windows"
   ]
  },
  {
   "cell_type": "code",
   "execution_count": 4,
   "metadata": {
    "collapsed": false
   },
   "outputs": [
    {
     "data": {
      "text/plain": [
       "(600, 600)"
      ]
     },
     "execution_count": 4,
     "metadata": {},
     "output_type": "execute_result"
    }
   ],
   "source": [
    "transition_count_l[0].shape # each transition count matrix has shape 600x600  "
   ]
  },
  {
   "cell_type": "markdown",
   "metadata": {},
   "source": [
    "Each of the transition count matrices contains the transitions between each of the 600 microstates calculated from one umbrella window (i.e., simulation run). "
   ]
  },
  {
   "cell_type": "markdown",
   "metadata": {},
   "source": [
    "# Load bias potentials"
   ]
  },
  {
   "cell_type": "code",
   "execution_count": 5,
   "metadata": {
    "collapsed": true
   },
   "outputs": [],
   "source": [
    "bias_ar = np.load(\"bias.npy\")"
   ]
  },
  {
   "cell_type": "code",
   "execution_count": 6,
   "metadata": {
    "collapsed": false
   },
   "outputs": [
    {
     "data": {
      "text/plain": [
       "(600, 153)"
      ]
     },
     "execution_count": 6,
     "metadata": {},
     "output_type": "execute_result"
    }
   ],
   "source": [
    "bias_ar.shape # For umbrella bias potential for each of the 600 states, for each of the 153 windows"
   ]
  },
  {
   "cell_type": "code",
   "execution_count": 7,
   "metadata": {
    "collapsed": false
   },
   "outputs": [
    {
     "data": {
      "text/plain": [
       "(600,)"
      ]
     },
     "execution_count": 7,
     "metadata": {},
     "output_type": "execute_result"
    }
   ],
   "source": [
    "bias_ar[:,0].shape # First row is the bias acting on each of the 600 states in the first window"
   ]
  },
  {
   "cell_type": "markdown",
   "metadata": {},
   "source": [
    "# Solve DHAMed equations"
   ]
  },
  {
   "cell_type": "code",
   "execution_count": 8,
   "metadata": {
    "collapsed": false
   },
   "outputs": [
    {
     "name": "stdout",
     "output_type": "stream",
     "text": [
      "7800\n",
      "loglike-start 41446995.9842\n",
      "41446995.9842\n",
      "Warning: Desired error not necessarily achieved due to precision loss.\n",
      "         Current function value: 41439703.523952\n",
      "         Iterations: 610\n",
      "         Function evaluations: 646\n",
      "         Gradient evaluations: 635\n",
      "time elapsed 27.8517827988 s\n"
     ]
    }
   ],
   "source": [
    "og = run_dhamed(transition_count_l, bias_ar,\n",
    "               jit_gradient=True)"
   ]
  },
  {
   "cell_type": "code",
   "execution_count": 9,
   "metadata": {
    "collapsed": false
   },
   "outputs": [],
   "source": [
    "z = np.arange(-40,40, step=80.0/ 600)\n"
   ]
  },
  {
   "cell_type": "code",
   "execution_count": 10,
   "metadata": {
    "collapsed": false
   },
   "outputs": [
    {
     "data": {
      "text/plain": [
       "Text(0.5,0,u'z [$\\\\mathrm{\\\\AA}$]')"
      ]
     },
     "execution_count": 10,
     "metadata": {},
     "output_type": "execute_result"
    },
    {
     "data": {
      "image/png": "[encoded data removed]",
      "text/plain": [
       "<matplotlib.figure.Figure at 0x152afe7b90>"
      ]
     },
     "metadata": {},
     "output_type": "display_data"
    }
   ],
   "source": [
    "fig, ax = plt.subplots(figsize=(5,3))\n",
    "\n",
    "pmf= (og*-1) - np.min((og*-1))\n",
    "ax.plot(z, pmf - 4.5, \".\")\n",
    "ax.set_ylabel(\"PMF(z) [$\\mathrm{k_BT}$]\")\n",
    "ax.set_xlabel(\"z [$\\mathrm{\\AA}$]\")"
   ]
  },
  {
   "cell_type": "markdown",
   "metadata": {},
   "source": [
    "The DHAMed calculation reproduces the expected shape of the PMF for ion channel permation with a maximum  >6 $\\mathrm{k_BT}$ and a minimum <-4 $\\mathrm{k_BT}$. "
   ]
  },
  {
   "cell_type": "markdown",
   "metadata": {},
   "source": [
    "# References \n",
    "\n",
    "[1] Zhu, F. Q.; Hummer, G. Pore opening and closing of a pentameric\n",
    "ligand-gated ion channel Proc. Natl. Acad. Sci. U. S. A. 2010, 107, 19814–\n",
    "19819 [10.1073/pnas.1009313107](http://www.pnas.org/content/107/46/19814.abstract)\n",
    "\n",
    "[2] Zhu, F. Q.; Hummer, G. Theory and simulation of ion conduction in the\n",
    "pentameric GLIC channel J. Chem. Theory Comput. 2012, 8, 3759– 3768 \n",
    "[DOI:\n",
    "10.1021/ct2009279](http://pubs.acs.org/doi/abs/10.1021/ct2009279)\n",
    "\n",
    "[3] Zhu, F. Q.; Hummer, G. Convergence and error estimation in free energy calculations using the weighted histogram analysis method J. Comput. Chemistry 2012, 33, 453-465 \n",
    "[DOI:10.1002/jcc.21989](http://onlinelibrary.wiley.com/doi/10.1002/jcc.21989/abstract;jsessionid=A356165C08BDF59F192004B7A4C34A92.f02t04?systemMessage=Wiley+Online+Library+usage+report+download+page+will+be+unavailable+on+Friday+24th+November+2017+at+21%3A00+EST+%2F+02.00+GMT+%2F+10%3A00+SGT+%28Saturday+25th+Nov+for+SGT+)"
   ]
  },
  {
   "cell_type": "code",
   "execution_count": null,
   "metadata": {
    "collapsed": true
   },
   "outputs": [],
   "source": []
  }
 ],
 "metadata": {
  "anaconda-cloud": {},
  "kernelspec": {
   "display_name": "Python [Root]",
   "language": "python",
   "name": "Python [Root]"
  },
  "language_info": {
   "codemirror_mode": {
    "name": "ipython",
    "version": 2
   },
   "file_extension": ".py",
   "mimetype": "text/x-python",
   "name": "python",
   "nbconvert_exporter": "python",
   "pygments_lexer": "ipython2",
   "version": "2.7.11"
  },
  "toc": {
   "colors": {
    "hover_highlight": "#DAA520",
    "running_highlight": "#FF0000",
    "selected_highlight": "#FFD700"
   },
   "moveMenuLeft": true,
   "nav_menu": {
    "height": "84px",
    "width": "252px"
   },
   "navigate_menu": true,
   "number_sections": true,
   "sideBar": true,
   "threshold": 4,
   "toc_cell": false,
   "toc_section_display": "block",
   "toc_window_display": true
  }
 },
 "nbformat": 4,
 "nbformat_minor": 0
}
