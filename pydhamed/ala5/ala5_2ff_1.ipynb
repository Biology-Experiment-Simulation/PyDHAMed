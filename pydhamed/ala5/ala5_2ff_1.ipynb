{
 "cells": [
  {
   "cell_type": "code",
   "execution_count": null,
   "metadata": {
    "collapsed": true
   },
   "outputs": [],
   "source": []
  },
  {
   "cell_type": "markdown",
   "metadata": {
    "toc": "true"
   },
   "source": [
    "# Table of Contents\n",
    " <p><div class=\"lev1 toc-item\"><a href=\"#Solve-DHAMed-equations-for-biased-ensemble\" data-toc-modified-id=\"Solve-DHAMed-equations-for-biased-ensemble-1\"><span class=\"toc-item-num\">1&nbsp;&nbsp;</span>Solve DHAMed equations for biased ensemble</a></div><div class=\"lev2 toc-item\"><a href=\"#Reconstruct-populations-from-relative-free-energies\" data-toc-modified-id=\"Reconstruct-populations-from-relative-free-energies-11\"><span class=\"toc-item-num\">1.1&nbsp;&nbsp;</span>Reconstruct populations from relative free energies</a></div><div class=\"lev1 toc-item\"><a href=\"#Analyze-long-reference-MD-simulations\" data-toc-modified-id=\"Analyze-long-reference-MD-simulations-2\"><span class=\"toc-item-num\">2&nbsp;&nbsp;</span>Analyze long reference MD simulations</a></div><div class=\"lev1 toc-item\"><a href=\"#Compare-$p_i$-from-DHAMed-analysis-of-biased-simulations-and-long-reference-simulations\" data-toc-modified-id=\"Compare-$p_i$-from-DHAMed-analysis-of-biased-simulations-and-long-reference-simulations-3\"><span class=\"toc-item-num\">3&nbsp;&nbsp;</span>Compare <span class=\"MathJax_Preview\" style=\"color: inherit;\"></span><span class=\"MathJax\" id=\"MathJax-Element-6-Frame\" style=\"\"><nobr><span class=\"math\" id=\"MathJax-Span-26\" role=\"math\" style=\"width: 1.01em; display: inline-block;\"><span style=\"display: inline-block; position: relative; width: 0.775em; height: 0px; font-size: 129%;\"><span style=\"position: absolute; clip: rect(1.736em, 1000em, 2.56em, -1000em); top: -2.266em; left: 0em;\"><span class=\"mrow\" id=\"MathJax-Span-27\"><span class=\"msubsup\" id=\"MathJax-Span-28\"><span style=\"display: inline-block; position: relative; width: 0.776em; height: 0px;\"><span style=\"position: absolute; clip: rect(3.465em, 1000em, 4.29em, -1000em); top: -3.995em; left: 0em;\"><span class=\"mi\" id=\"MathJax-Span-29\" style=\"font-family: STIXMathJax_Main; font-style: italic;\">p</span><span style=\"display: inline-block; width: 0px; height: 3.995em;\"></span></span><span style=\"position: absolute; top: -3.845em; left: 0.504em;\"><span class=\"mi\" id=\"MathJax-Span-30\" style=\"font-size: 70.7%; font-family: STIXMathJax_Main; font-style: italic;\">i</span><span style=\"display: inline-block; width: 0px; height: 3.995em;\"></span></span></span></span></span><span style=\"display: inline-block; width: 0px; height: 2.266em;\"></span></span></span><span style=\"border-left: 0em solid; display: inline-block; overflow: hidden; width: 0px; height: 0.91em; vertical-align: -0.303em;\"></span></span></nobr></span><script type=\"math/tex\" id=\"MathJax-Element-6\">p_i</script> from DHAMed analysis of biased simulations and long reference simulations</a></div><div class=\"lev1 toc-item\"><a href=\"#References\" data-toc-modified-id=\"References-4\"><span class=\"toc-item-num\">4&nbsp;&nbsp;</span>References</a></div>"
   ]
  },
  {
   "cell_type": "code",
   "execution_count": 2,
   "metadata": {
    "collapsed": false,
    "run_control": {
     "frozen": false,
     "read_only": false
    }
   },
   "outputs": [],
   "source": [
    "import numpy as np\n",
    "import glob\n",
    "import pandas as pd\n",
    "%matplotlib inline\n",
    "from pydhamed import count_matrix\n",
    "from pydhamed import run_dhamed"
   ]
  },
  {
   "cell_type": "markdown",
   "metadata": {},
   "source": [
    "Here I am analyzing trajectories run with two different force fields. The reweighted trajectories are compared to long reference unbiased MD trajectories.\n",
    "\n",
    "# Solve DHAMed equations for biased ensemble\n",
    "\n",
    "* Transition counts and biases for the different trajectories are loaded from pandas pickles.\n",
    "\n",
    "* Calculation run data split into five blocks to estimate uncertainty. All data points are used to get the best estimate of the free energy landscape of Ala5."
   ]
  },
  {
   "cell_type": "code",
   "execution_count": 3,
   "metadata": {
    "collapsed": false
   },
   "outputs": [
    {
     "name": "stdout",
     "output_type": "stream",
     "text": [
      "bl1\n",
      "998\n",
      "loglike-start 12422.8696432\n",
      "12422.8696432\n",
      "Optimization terminated successfully.\n",
      "         Current function value: 12314.481719\n",
      "         Iterations: 39\n",
      "         Function evaluations: 47\n",
      "         Gradient evaluations: 47\n",
      "time elapsed 0.644701004028 s\n",
      "bl2\n",
      "832\n",
      "loglike-start 11987.6561668\n",
      "11987.6561668\n",
      "Optimization terminated successfully.\n",
      "         Current function value: 11853.752282\n",
      "         Iterations: 41\n",
      "         Function evaluations: 54\n",
      "         Gradient evaluations: 54\n",
      "time elapsed 0.0122451782227 s\n",
      "bl3\n",
      "710\n",
      "loglike-start 11747.8259855\n",
      "11747.8259855\n",
      "Optimization terminated successfully.\n",
      "         Current function value: 11650.904460\n",
      "         Iterations: 38\n",
      "         Function evaluations: 49\n",
      "         Gradient evaluations: 49\n",
      "time elapsed 0.0106239318848 s\n",
      "bl4\n",
      "772\n",
      "loglike-start 12027.5797906\n",
      "12027.5797906\n",
      "Optimization terminated successfully.\n",
      "         Current function value: 11863.721843\n",
      "         Iterations: 39\n",
      "         Function evaluations: 51\n",
      "         Gradient evaluations: 51\n",
      "time elapsed 0.0110418796539 s\n",
      "bl5\n",
      "900\n",
      "loglike-start 13182.0078421\n",
      "13182.0078421\n",
      "Optimization terminated successfully.\n",
      "         Current function value: 13023.333461\n",
      "         Iterations: 39\n",
      "         Function evaluations: 44\n",
      "         Gradient evaluations: 44\n",
      "time elapsed 0.0109739303589 s\n",
      "blall\n",
      "1934\n",
      "loglike-start 78108.416287\n",
      "78108.416287\n",
      "Optimization terminated successfully.\n",
      "         Current function value: 77377.873649\n",
      "         Iterations: 40\n",
      "         Function evaluations: 58\n",
      "         Gradient evaluations: 58\n",
      "time elapsed 0.0220980644226 s\n"
     ]
    }
   ],
   "source": [
    "dhamed_bl_ar = np.zeros((32,6))\n",
    "\n",
    "for bl_i in range(1,7):\n",
    "    if bl_i == 6:\n",
    "        bl=\"blall\"\n",
    "    else:\n",
    "        bl=\"bl{}\".format(bl_i)\n",
    "    print bl\n",
    "    bias_l = pd.read_pickle(bl+\"/list_bias_ar\")\n",
    "    trans_count_l = pd.read_pickle(bl+\"/list_transition_counts\")\n",
    "    bias_ar = np.column_stack(bias_l)\n",
    "    og = run_dhamed(trans_count_l, bias_ar)\n",
    "    dhamed_bl_ar[:,bl_i-1] = og*-1"
   ]
  },
  {
   "cell_type": "code",
   "execution_count": 4,
   "metadata": {
    "collapsed": false
   },
   "outputs": [
    {
     "data": {
      "text/plain": [
       "(32, 30)"
      ]
     },
     "execution_count": 4,
     "metadata": {},
     "output_type": "execute_result"
    }
   ],
   "source": [
    "np.column_stack(bias_l).shape # 32 states and 30 windows "
   ]
  },
  {
   "cell_type": "markdown",
   "metadata": {},
   "source": [
    "## Reconstruct populations from relative free energies"
   ]
  },
  {
   "cell_type": "code",
   "execution_count": 5,
   "metadata": {
    "collapsed": false
   },
   "outputs": [],
   "source": [
    "p_ar = np.zeros((6,32))\n",
    "\n",
    "for i, row in enumerate(dhamed_bl_ar.T):\n",
    "    p_ar[i,:] = np.exp(-row) / (np.sum(np.exp(-1*row)))"
   ]
  },
  {
   "cell_type": "code",
   "execution_count": 6,
   "metadata": {
    "collapsed": true
   },
   "outputs": [],
   "source": [
    "dh_err =np.std(p_ar[:-1],axis=0) / np.sqrt(4)\n",
    "dh_log_err = np.std(-np.log(p_ar[:-1,:]),axis=0) / np.sqrt(4)"
   ]
  },
  {
   "cell_type": "markdown",
   "metadata": {},
   "source": [
    "# Analyze long reference MD simulations"
   ]
  },
  {
   "cell_type": "code",
   "execution_count": 10,
   "metadata": {
    "collapsed": false
   },
   "outputs": [],
   "source": [
    "from pydhamed import block_average_pop_eq_tba,  pop_from_tba_eq_traj"
   ]
  },
  {
   "cell_type": "code",
   "execution_count": 11,
   "metadata": {
    "collapsed": true
   },
   "outputs": [],
   "source": [
    "tba1 = np.load(\"ref_unbiased_md/r1_5ala_1us_tba.npy\")\n",
    "tba2 = np.load(\"ref_unbiased_md/r2_5ala_1us_tba.npy\")\n",
    "tba3 = np.load(\"ref_unbiased_md/r3_5ala_1us_tba.npy\")\n",
    "md_tba = np.hstack((tba1[1:], tba2[1:], tba3[1:]))"
   ]
  },
  {
   "cell_type": "code",
   "execution_count": 12,
   "metadata": {
    "collapsed": false
   },
   "outputs": [],
   "source": [
    "nblocks_md = 5\n",
    "md_bl = block_average_pop_eq_tba(md_tba, nblocks_md) # 3000 / 60 = 50 \n",
    "\n",
    "md_err = np.std((md_bl), axis=1) / np.sqrt(nblocks_md-1.0)\n",
    "md_log_err = np.std(-np.log(md_bl), axis=1) / np.sqrt(nblocks_md-1.0)\n",
    "\n",
    "md_p = pop_from_tba_eq_traj(md_tba)"
   ]
  },
  {
   "cell_type": "markdown",
   "metadata": {},
   "source": [
    "# Compare $p_i$ from DHAMed analysis of biased simulations and long reference simulations\n",
    "\n",
    "The equilibrium populations determined from the biased simulations using DHAMed agree well with the long reference simulations."
   ]
  },
  {
   "cell_type": "code",
   "execution_count": 36,
   "metadata": {
    "collapsed": false
   },
   "outputs": [
    {
     "data": {
      "text/plain": [
       "[]"
      ]
     },
     "execution_count": 36,
     "metadata": {},
     "output_type": "execute_result"
    },
    {
     "data": {
      "image/png": "[encoded data removed]",
      "text/plain": [
       "<matplotlib.figure.Figure at 0x7fe3a3f636d0>"
      ]
     },
     "metadata": {},
     "output_type": "display_data"
    }
   ],
   "source": [
    "fig, ax = plt.subplots(figsize=(3,3))\n",
    "sns.set_style('ticks')\n",
    "plt.errorbar(md_p, p_ar[-1,:], yerr=dh_err, xerr=md_err, fmt=\".\",\n",
    "            capsize=1, capthick=2)\n",
    "plt.plot([0.004,0.12], [0.004,0.12], \"--\", c='grey')\n",
    "plt.ylim(0.004,0.14)\n",
    "plt.xlim(0.004,0.14)\n",
    "plt.ylabel(\"DHAMed $\\mathrm{p_i}$\", fontsize=12)\n",
    "plt.xlabel(\"Reference MD $\\mathrm{p_i}$\", fontsize=12)\n",
    "plt.loglog()"
   ]
  },
  {
   "cell_type": "markdown",
   "metadata": {},
   "source": [
    "Look at the populations of individual structural states. For this I label the different structural states. E.g., 10000 means that the N-terminal residue is in a helical-like conformation and the other residues are in coil-like conformations. "
   ]
  },
  {
   "cell_type": "code",
   "execution_count": 39,
   "metadata": {
    "collapsed": true
   },
   "outputs": [],
   "source": [
    "states_ordered = np.array([\n",
    "        [0,0,0,0,0],\n",
    "        [0,0,0,0,1],\n",
    "        [0,0,0,1,0],\n",
    "        [0,0,0,1,1],\n",
    "        [0,0,1,0,0],\n",
    "        [0,0,1,0,1],\n",
    "        [0,0,1,1,0],\n",
    "        [0,0,1,1,1],\n",
    "        [0,1,0,0,0],\n",
    "        [0,1,0,0,1],\n",
    "        [0,1,0,1,0],\n",
    "        [0,1,0,1,1],\n",
    "        [0,1,1,0,0],\n",
    "        [0,1,1,0,1],\n",
    "        [0,1,1,1,0],\n",
    "        [0,1,1,1,1],\n",
    "        [1,0,0,0,0],\n",
    "        [1,0,0,0,1],\n",
    "        [1,0,0,1,0],\n",
    "        [1,0,0,1,1],\n",
    "        [1,0,1,0,0],\n",
    "        [1,0,1,0,1],\n",
    "        [1,0,1,1,0],\n",
    "        [1,0,1,1,1],\n",
    "        [1,1,0,0,0],\n",
    "        [1,1,0,0,1],\n",
    "        [1,1,0,1,0],\n",
    "        [1,1,0,1,1],\n",
    "        [1,1,1,0,0],\n",
    "        [1,1,1,0,1],\n",
    "        [1,1,1,1,0],\n",
    "        [1,1,1,1,1]\n",
    "    ])\n",
    "\n",
    "str_label = [ \"{}{}{}{}{}\".format(*row)  for row in states_ordered]\n",
    "xl = np.array([int(s, 2) for s in str_label])"
   ]
  },
  {
   "cell_type": "code",
   "execution_count": 40,
   "metadata": {
    "collapsed": false
   },
   "outputs": [
    {
     "data": {
      "text/plain": [
       "<matplotlib.legend.Legend at 0x7fe3a3a303d0>"
      ]
     },
     "execution_count": 40,
     "metadata": {},
     "output_type": "execute_result"
    },
    {
     "data": {
      "image/png": "[encoded data removed]",
      "text/plain": [
       "<matplotlib.figure.Figure at 0x7fe3a3af6f10>"
      ]
     },
     "metadata": {},
     "output_type": "display_data"
    }
   ],
   "source": [
    "st_i = np.arange(1,33)\n",
    "\n",
    "plt.errorbar(st_i, md_p, yerr=md_err, capsize=4, capthick=2, label=r\"3x1 $\\mathrm{\\mu s}$ unbiased MD\", fmt=\"s-\",\n",
    "            mfc=\"None\", mew=1)\n",
    "plt.errorbar(st_i, p_ar[-1,:], yerr=dh_err, capsize=4, capthick=2, label=\"biased MD DHAMed\", fmt=\"o\", ms=5)\n",
    "plt.ylabel(r\"$\\mathrm{p_i}$\", fontsize=13)\n",
    "#plt.xlabel(\"State\", fontsize=13)\n",
    "\n",
    "plt.xticks(xl+1, str_label, rotation=-90, fontsize=12);\n",
    "ax.tick_params(axis='both', which='both', top=True, right=True)\n",
    "\n",
    "plt.tight_layout()\n",
    "\n",
    "plt.legend()"
   ]
  },
  {
   "cell_type": "code",
   "execution_count": 52,
   "metadata": {
    "collapsed": true
   },
   "outputs": [],
   "source": [
    "# use Seaborn color scheme. I don't load the Seaborn module so as not to introduce an extra dependency. \n",
    "cl = np.array([[2.980392156862745057e-01, 4.470588235294117863e-01, 6.901960784313725394e-01],\n",
    "[3.333333333333333148e-01, 6.588235294117646967e-01, 4.078431372549019551e-01],\n",
    "[7.686274509803922017e-01, 3.058823529411764941e-01, 3.215686274509804154e-01],\n",
    "[5.058823529411764497e-01, 4.470588235294117863e-01, 6.980392156862744724e-01]])"
   ]
  },
  {
   "cell_type": "code",
   "execution_count": 51,
   "metadata": {
    "collapsed": false
   },
   "outputs": [
    {
     "data": {
      "image/png": "[encoded data removed]",
      "text/plain": [
       "<matplotlib.figure.Figure at 0x7fe3a3cc9990>"
      ]
     },
     "metadata": {},
     "output_type": "display_data"
    }
   ],
   "source": [
    "fig, ax = plt.subplots(figsize=(7,3))\n",
    "sns.set_style(\"ticks\")\n",
    "plt.errorbar(st_i, -1*np.log(p_ar[-1,:]), yerr=dh_log_err, capsize=4, capthick=2, c=cl[0], label=\"2FFs DHAMed\" , fmt=\"s\", mfc=\"None\", mew=1.0, ms=6)\n",
    " \n",
    "\n",
    "plt.errorbar(st_i, -1*np.log(md_p), yerr=md_log_err, capsize=4, capthick=2, c=cl[3], fmt=\".\", mew=1.0, ms=6,\n",
    "            label=\"Eq. MD\")\n",
    "\n",
    "plt.legend(ncol=3)\n",
    "plt.ylabel(\"$\\mathrm{ - \\ln \\, p_i}$\", fontsize=13)\n",
    "plt.xticks(xl+1, str_label, rotation=-90, fontsize=12);\n",
    "ax.tick_params(axis='both', which='both', top=True, right=True)\n",
    "\n",
    "plt.tight_layout()"
   ]
  },
  {
   "cell_type": "markdown",
   "metadata": {},
   "source": [
    "The plot reproduces Figure 8 of the manuscript [1].\n",
    "\n",
    "# References\n",
    "\n",
    "[1] Dynamic Histogram Analysis To Determine Free Energies and Rates from biased \n",
    "Simulations, L. S. Stelzl, A. Kells, E. Rosta, G. Hummer, J. Chem. Theory Comput.,\n",
    "2017, http://pubs.acs.org/doi/abs/10.1021/acs.jctc.7b00373"
   ]
  },
  {
   "cell_type": "code",
   "execution_count": null,
   "metadata": {
    "collapsed": true
   },
   "outputs": [],
   "source": []
  }
 ],
 "metadata": {
  "kernelspec": {
   "display_name": "Python 2",
   "language": "python",
   "name": "python2"
  },
  "language_info": {
   "codemirror_mode": {
    "name": "ipython",
    "version": 2
   },
   "file_extension": ".py",
   "mimetype": "text/x-python",
   "name": "python",
   "nbconvert_exporter": "python",
   "pygments_lexer": "ipython2",
   "version": "2.7.12"
  },
  "toc": {
   "colors": {
    "hover_highlight": "#DAA520",
    "running_highlight": "#FF0000",
    "selected_highlight": "#FFD700"
   },
   "moveMenuLeft": true,
   "nav_menu": {
    "height": "120px",
    "width": "252px"
   },
   "navigate_menu": true,
   "number_sections": true,
   "sideBar": true,
   "threshold": 4,
   "toc_cell": true,
   "toc_position": {
    "height": "830px",
    "left": "0px",
    "right": "1932px",
    "top": "107px",
    "width": "212px"
   },
   "toc_section_display": "block",
   "toc_window_display": true
  }
 },
 "nbformat": 4,
 "nbformat_minor": 0
}
